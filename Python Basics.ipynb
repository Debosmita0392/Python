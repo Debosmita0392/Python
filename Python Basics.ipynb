{
 "cells": [
  {
   "cell_type": "markdown",
   "metadata": {},
   "source": [
    "# Variable and Print Statement"
   ]
  },
  {
   "cell_type": "markdown",
   "metadata": {},
   "source": [
    "## Create your first variable\n",
    "In this task, you will assign names to variables and also check their types.\n",
    "\n",
    "Assign value of 12 to a new variable 'age' and \"John\" to 'name'.\n",
    "Save the type of age using type(age) and save it to a variable type_age\n",
    "Similarly save the type of name to a variable type_name\n",
    "Print out the variables type_age and type_name using the print() function\n",
    "Test Cases: The variable 'age' should be int with value 12. The variable 'name' should be string with value \"John\", i.e.\n",
    "\n",
    "type(age) == int\n",
    "age == 12\n",
    "type(name) == str\n",
    "name == \"John\""
   ]
  },
  {
   "cell_type": "code",
   "execution_count": 1,
   "metadata": {},
   "outputs": [
    {
     "name": "stdout",
     "output_type": "stream",
     "text": [
      "Type of age is <class 'int'>\n",
      "Type of name is <class 'str'>\n"
     ]
    }
   ],
   "source": [
    "# Code starts here\n",
    "\n",
    "# Assign variable names\n",
    "age = 12\n",
    "name = 'John'\n",
    "\n",
    "# Check types\n",
    "type_age=type(age)\n",
    "type_name = type(name)\n",
    "# print out types\n",
    "print(\"Type of age is\",type_age)\n",
    "print(\"Type of name is\",type_name)\n",
    "\n",
    "# Code ends here"
   ]
  },
  {
   "cell_type": "markdown",
   "metadata": {},
   "source": [
    "# Numbers\n",
    "## Calculate the Compound Interest\n",
    "In this problem, you will calculate the compound interest (C.I.). Remember that the formula for compound interest for the amount after n years is\n",
    "A = P(1 + r/100)^n\n",
    "A=P(1+r/100) \n",
    "n\n",
    " \n",
    "Here, A is the Amount after n years, r is the rate of interest, and P is the principal.\n",
    "\n",
    "Your task is to calculate the amount after two years on a principal amount of USD 1000 at the rate of 10 % p.a.\n",
    "\n",
    "Instructions\n",
    "Store principal, rate of interest and time in variables P, r, and n respectively.\n",
    "\n",
    "Now calculate the amount according to the formula given above and save it in a variable A.\n",
    "\n",
    "Calculate A - P and store the result in a variable called interest.\n",
    "\n",
    "Print out interest using the print() function."
   ]
  },
  {
   "cell_type": "code",
   "execution_count": 2,
   "metadata": {},
   "outputs": [
    {
     "name": "stdout",
     "output_type": "stream",
     "text": [
      "Amount after 2 years for a principal of 1000 USD is USD 1210\n",
      "Interest incurred is  210\n"
     ]
    }
   ],
   "source": [
    "# Code starts here\n",
    "\n",
    "# store variable names\n",
    "P=1000\n",
    "r=10\n",
    "n=2\n",
    "\n",
    "# compound interest formula\n",
    "A=int(P*((1+(r/100))**n))\n",
    "\n",
    "# display compound interest\n",
    "print(\"Amount after 2 years for a principal of 1000 USD is USD\",int(A))\n",
    "\n",
    "# display interest\n",
    "interest = int(A-P)\n",
    "print (\"Interest incurred is \",int(interest))\n",
    "\n",
    "# Code ends here"
   ]
  },
  {
   "cell_type": "markdown",
   "metadata": {},
   "source": [
    "# Strings\n",
    "## Perform String Operations\n",
    "You are given two strings, \"Monty\" and \"Python\". Follow the instructions below to carry out string operations like concatenation, indexing, slicing, etc.:\n",
    "\n",
    "Two variables name and title with values \"Monty\" and \"Python\", are given.\n",
    "\n",
    "Conatenate (+) name and title and save it to variable called full_name. (Note: Add a whitespace between name and title while concatenating)\n",
    "\n",
    "Use slicing to pick up the first name from full_name and save it to a first_name variable.\n",
    "\n",
    "Calculate the length of the full name using the len() function. Subtract 1 from it (so that you get rid of the whitespace) and save it to a len_name variable.\n",
    "\n",
    "Check whether the alphabet \"f\" is in the full name and save it to a is_f variable.\n",
    "\n",
    "Now, split the full name back into first name and title using the .split() method on the full_name variable. Save it to a split variable. The output will come as a list which is another important data structure. \n",
    "\n",
    "Print the full_name, first_name, len_name, is_f and split variable to check your results."
   ]
  },
  {
   "cell_type": "code",
   "execution_count": 4,
   "metadata": {},
   "outputs": [
    {
     "name": "stdout",
     "output_type": "stream",
     "text": [
      "Monty Python\n",
      "Monty\n",
      "Monty\n",
      "11\n",
      "-1\n",
      "F not present\n",
      "False\n",
      "['Monty', 'Python']\n"
     ]
    }
   ],
   "source": [
    "# initialize variables\n",
    "name, title = 'Monty', 'Python'\n",
    "\n",
    "# Code starts here\n",
    "\n",
    "# full name\n",
    "full_name = name + \" \" + title\n",
    "print(full_name)\n",
    "# first name\n",
    "first_name = full_name[0:5]\n",
    "print(first_name)\n",
    "#Dynamic method of splitting\n",
    "test = full_name.split()\n",
    "print(test[0])\n",
    "# length of full name\n",
    "len_name = len(full_name)-1\n",
    "print(len_name)\n",
    "# Is \"f\" in full name?\n",
    "is_f=(full_name.find(\"f\"))\n",
    "print(is_f)\n",
    "if is_f == True:\n",
    "    is_f = True\n",
    "    print(\"F is present\")\n",
    "else:\n",
    "    is_f = False\n",
    "    print(\"F not present\")\n",
    "print(is_f)\n",
    "# Split into first name and title\n",
    "split=full_name.split()\n",
    "print(split)\n",
    "# Code ends here"
   ]
  },
  {
   "cell_type": "markdown",
   "metadata": {},
   "source": [
    "# Lists\n",
    "## Perform List Operations\n",
    "In this task, you will store the weights of a family of a four weighing of 70, 80, 45 and 50 kg respectively in a list and perform do some operations on it to calculate the mean of the weights.\n",
    "\n",
    "Instructions\n",
    "Store the values in a list called weights.\n",
    "\n",
    "Save the maximum weight from the list using the max() method to a maximum variable. Print it out.\n",
    "\n",
    "Suddenly, you realize that you have wrongly entered 45 and that should be 48. So, it's time to replace the wrong weight with the correct one. Since 45 is in the second index, use weights[2] = 48 to replace the value. Display the weights using print()\n",
    "\n",
    "Now calculate the sum of the weights using the sum() function and save it to a total variable. Print it out.\n",
    "\n",
    "Calculate the mean of their weights using the formula sum / number of elements and save it to a variable mean. Print this out too."
   ]
  },
  {
   "cell_type": "code",
   "execution_count": 5,
   "metadata": {},
   "outputs": [
    {
     "name": "stdout",
     "output_type": "stream",
     "text": [
      "80\n",
      "[70, 80, 48, 50]\n",
      "248\n",
      "62\n"
     ]
    }
   ],
   "source": [
    "# Code starts here\n",
    "import statistics\n",
    "# create list of weights\n",
    "weights=[70,80,45,50]\n",
    "\n",
    "# maximum weight\n",
    "maximum=max(weights)\n",
    "print(maximum)\n",
    "# change values\n",
    "weights[2]=48\n",
    "print(weights)\n",
    "\n",
    "# calculate sum\n",
    "total=sum(weights)\n",
    "print(total)\n",
    "\n",
    "# calculate mean\n",
    "mean=statistics.mean(weights)\n",
    "print(mean)\n",
    "\n",
    "# Code ends here"
   ]
  },
  {
   "cell_type": "markdown",
   "metadata": {},
   "source": [
    "# Dictionary\n",
    "## Perform Dictionary Operations\n",
    "In this task, you will understand how to create a dictionary that stores a fruit as a key and its color as values. Perform some common dictionary operations so that each fruit is correctly matched to its color.\n",
    "\n",
    "Instruction\n",
    "Create a dictionary named fruits with key values as 'apple', 'banana', and 'cherry' that have values as 'green', 'yellow' and 'red'.\n",
    "\n",
    "Change the color of 'apple' from 'green' to 'red'\n",
    "\n",
    "Add another fruit 'guava', with its color as 'green'\n",
    "\n",
    "Remove the entry for 'cherry'.\n",
    "\n",
    "Print out the final dictionary."
   ]
  },
  {
   "cell_type": "code",
   "execution_count": 6,
   "metadata": {},
   "outputs": [
    {
     "name": "stdout",
     "output_type": "stream",
     "text": [
      "{'apple': 'red', 'banana': 'yellow', 'guava': 'green'}\n"
     ]
    }
   ],
   "source": [
    "# Code starts here\n",
    "\n",
    "# initialize dictionary\n",
    "fruits={\"apple\":\"green\",\"banana\":\"yellow\",\"cherry\":\"red\"}\n",
    "\n",
    "# change color of apple\n",
    "fruits[\"apple\"]=\"red\"\n",
    "#print(fruits)\n",
    "\n",
    "# add guava\n",
    "fruits[\"guava\"]=\"green\"\n",
    "\n",
    "# delete cherry\n",
    "del fruits[\"cherry\"]\n",
    "\n",
    "# display fruits\n",
    "print(fruits)\n",
    "\n",
    "# Code ends here"
   ]
  },
  {
   "cell_type": "markdown",
   "metadata": {},
   "source": [
    "# Tuples\n",
    "\n",
    "## Perform Tuple Operations\n",
    "Now you will use tuples on the same set of weights of a four-membered family having weights of 70, 80, 45, and 50 kg respectively, and perform some operations on it to calculate the mean of the weights.\n",
    "\n",
    "Instructions\n",
    "Suddenly you realize that you have wrongly entered 45 and that it should be 48. Could that be done after storing the given weights inside a tuple?\n",
    "Since it cannot be done, create a tuple with the correct weights. Name this new tuple weights_new and perform the following operations on it.\n",
    "Calculate the maximum and minimum weights using the max() and min() functions respectively on the new weights_new tuple. Save them to the maximum and minimum variables.\n",
    "Now calculate the sum of the weights using the sum() function and save it to sum_weights.\n",
    "Save the mean of their weights (using the formula sum / number of elements) to a mean_new variable."
   ]
  },
  {
   "cell_type": "code",
   "execution_count": 7,
   "metadata": {},
   "outputs": [
    {
     "name": "stdout",
     "output_type": "stream",
     "text": [
      "80\n",
      "48\n",
      "248\n",
      "62\n"
     ]
    }
   ],
   "source": [
    "# create tuple of weights\n",
    "weights = (70, 80, 45, 50)\n",
    "\n",
    "# Code starts here\n",
    "import statistics\n",
    "# create new tuple of weights\n",
    "weights_new=(70, 80, 48, 50)\n",
    "\n",
    "# calculate maximum and minimum weights\n",
    "maximum=max(weights_new)\n",
    "print(maximum)\n",
    "minimum=min(weights_new)\n",
    "print(minimum)\n",
    "# calculate sum of weights\n",
    "sum_weights=sum(weights_new)\n",
    "print(sum_weights)\n",
    "\n",
    "# calculate mean\n",
    "mean_new=statistics.mean(weights_new)\n",
    "print(mean_new)\n",
    "# Code ends here"
   ]
  },
  {
   "cell_type": "markdown",
   "metadata": {},
   "source": [
    "## Compare Two Numbers\n",
    "In this task, you will perform comparison operations using two numbers, x = 10 and y = 12. These variables are already declared for you.\n",
    "\n",
    "Calculate if the output of condition x is greater than y and save it as is_greater.\n",
    "Calculate if the output of condition x is less than y and save it as is_less.\n",
    "Calculate if the output of condition x is equal to y and save it as is_equal.\n",
    "Calculate if the output of condition x is greater than or equal to y and save it as is_greater_equal.\n",
    "Calculate if the output of condition x is less than or equal to y and save it as is_less_equal.\n",
    "Print out all the variables created.\n"
   ]
  },
  {
   "cell_type": "code",
   "execution_count": 8,
   "metadata": {},
   "outputs": [
    {
     "name": "stdout",
     "output_type": "stream",
     "text": [
      "False\n",
      "True\n",
      "False\n",
      "False\n",
      "True\n"
     ]
    }
   ],
   "source": [
    " x=10\n",
    " y=12\n",
    "\n",
    "#Code starts here\n",
    "\n",
    "# greater than\n",
    "is_greater=x>y\n",
    "print(is_greater)\n",
    "# lesser than\n",
    "is_less=x<y\n",
    "print(is_less)\n",
    "# equal to\n",
    "if x==y:\n",
    "    is_equal=True\n",
    "else:\n",
    "    is_equal=False\n",
    "print(is_equal)\n",
    "# greater than or equal to\n",
    "is_greater_equal=x>=y\n",
    "print(is_greater_equal)\n",
    "# lesser than or equal to\n",
    "is_less_equal=x<=y\n",
    "print(is_less_equal)\n",
    "\n",
    "# Code ends here"
   ]
  },
  {
   "cell_type": "markdown",
   "metadata": {},
   "source": [
    "# Check the Membership\n",
    "In this task, you will check if some element is in an iterable list with the help of membership operators.\n",
    "\n",
    "Instructions\n",
    "You are given a variable name = \"John\".\n",
    "Check whether the variable is in the list [\"John\", \"Rick\"] and save the result in a variable called john.\n",
    "Check whether the variable is in the list [\"Hall\", \"Rick\"] and save the result in a variable called hall.\n",
    "Print out both john and hall.\n"
   ]
  },
  {
   "cell_type": "code",
   "execution_count": 9,
   "metadata": {},
   "outputs": [
    {
     "name": "stdout",
     "output_type": "stream",
     "text": [
      "True\n",
      "False\n"
     ]
    }
   ],
   "source": [
    "# given variable\n",
    "name = \"John\"\n",
    "\n",
    "# Code starts here\n",
    "\n",
    "# check for memberships\n",
    "john=name in ['John','Rick']\n",
    "print(john)\n",
    "hall = name in ['Hall','Rick']\n",
    "# Display variables\n",
    "print(hall)\n",
    "\n",
    "# Code ends here"
   ]
  },
  {
   "cell_type": "markdown",
   "metadata": {},
   "source": [
    "# Identity Operators\n",
    "## Check the Memory Locations\n",
    "In this task, you will be checking the memory locations of variables with the help of the variables x1 = 5, y1 = 5, x2 = 'Hello' and y2 = 'Hello', and finally on two dictionaries d1 and d2 having the same value, i.e., {'a':1, 'b':2}. As you might have noticed x1 and y1 have the same values and so do x2, y2 and d1, d2.\n",
    "\n",
    "Check if both the x1 and y1 variable point towards the same objects and save it to a x1_is_y1 variable. Print it out.\n",
    "Check if the x2 and y2 variables point towards the same object and save it to a x2_is_y2 variable. Print it out.\n",
    "Check if d1 and d2 point towards the same object and save it to a d1_is_d2 variable. Print it out."
   ]
  },
  {
   "cell_type": "code",
   "execution_count": 10,
   "metadata": {},
   "outputs": [
    {
     "name": "stdout",
     "output_type": "stream",
     "text": [
      "True\n",
      "True\n",
      "False\n"
     ]
    }
   ],
   "source": [
    "# initialize variables\n",
    "x1, y1, x2, y2, d1, d2 = 5, 5, 'Hello', 'Hello',  {'a':1, 'b':2}, {'a':1, 'b':2}\n",
    "\n",
    "\n",
    "# Code starts here\n",
    "x1_is_y1=x1 is y1\n",
    "print(x1_is_y1)\n",
    "x2_is_y2=x2 is y2\n",
    "print(x2_is_y2)\n",
    "d1_is_d2=d1 is d2\n",
    "print(d1_is_d2)\n",
    "# Code ends here"
   ]
  },
  {
   "cell_type": "markdown",
   "metadata": {},
   "source": [
    "# While Loop\n",
    "\n",
    "## Find multiples of 10\n",
    "In this task you will be using a while loop to iterate over natural numbers from 1 to 100 and store only the multiples of 10 in a list and print that list\n",
    "\n",
    "Initialize an empty list factors and a variable num equal to 1\n",
    "\n",
    "Set the condtion in the while loop until the variable num is less than or equal to 100\n",
    "\n",
    "Check using an if statement whether the variable is divisible by 10 and if is, append that number(i.e. num) to factors\n",
    "\n",
    "Increment the variable num by 1 post checking the above condition. (note that this increment will be outside the if statement, take care of the indentation in order to avoid a scenario of infinite loop)\n",
    "\n",
    "Print out the factors list"
   ]
  },
  {
   "cell_type": "code",
   "execution_count": 11,
   "metadata": {},
   "outputs": [
    {
     "name": "stdout",
     "output_type": "stream",
     "text": [
      "[10, 20, 30, 40, 50, 60, 70, 80, 90, 100]\n"
     ]
    }
   ],
   "source": [
    "num=1\n",
    "factors=[]\n",
    "\n",
    "# while loop\n",
    "while num <=100:\n",
    "    if num%10==0:\n",
    "        factors.append(num)\n",
    "        num=num+1\n",
    "        continue\n",
    "    else:\n",
    "        num=num+1\n",
    "        continue\n",
    "print(factors)\n"
   ]
  },
  {
   "cell_type": "markdown",
   "metadata": {},
   "source": [
    "# For Loop\n",
    "## Find numbers divisible by 2 or 3\n",
    "In this task you will learn how to use a for loop and conditionals by making a list of natural numbers less than or equal to 50 which are divisible by 2 or 3.\n",
    "\n",
    "Iterate over a range using the range() function from 1to 51 using the for loop\n",
    "\n",
    "Initialize an empty list named divisible to store your results\n",
    "\n",
    "Use the if statement to check if the iterable is divisible by 2 or 3, and if yes, then append it to the list created in the above step\n",
    "\n",
    "Print divisible ` Test Cases :\n",
    "\n",
    "The variable divisible contains the list [2, 3, 4, 6, 8, 9, 10, 12, 14, 15, 16, 18, 20, 21, 22, 24, 26, 27, 28, 30, 32, 33, 34, 36, 38, 39, 40, 42, 44, 45, 46, 48, 50]"
   ]
  },
  {
   "cell_type": "code",
   "execution_count": 12,
   "metadata": {},
   "outputs": [
    {
     "name": "stdout",
     "output_type": "stream",
     "text": [
      "[2, 3, 4, 6, 8, 9, 10, 12, 14, 15, 16, 18, 20, 21, 22, 24, 26, 27, 28, 30, 32, 33, 34, 36, 38, 39, 40, 42, 44, 45, 46, 48, 50]\n"
     ]
    }
   ],
   "source": [
    "divisible=[]\n",
    "\n",
    "# for loop to store elements \n",
    "for i in range(1,51):\n",
    "    if (i%2 == 0) or (i%3 == 0):\n",
    "        divisible.append(i)\n",
    "    else:\n",
    "        continue\n",
    "print(divisible)"
   ]
  },
  {
   "cell_type": "markdown",
   "metadata": {},
   "source": [
    "## Exclude multiples of 3 from 1 to 100\n",
    "In this task you will use control statements to create a list of natural numbers till 100 excluding multiples of 3\n",
    "\n",
    "Initialize an empty list multiples\n",
    "\n",
    "Use a for loop to iterate over natural numbers till 100 and check if the number is divisible by 3; if yes then simply use the continue or pass statement to filter them out; otherwise just append the number to the empty list\n",
    "\n"
   ]
  },
  {
   "cell_type": "code",
   "execution_count": 13,
   "metadata": {},
   "outputs": [
    {
     "name": "stdout",
     "output_type": "stream",
     "text": [
      "[1, 2, 4, 5, 7, 8, 10, 11, 13, 14, 16, 17, 19, 20, 22, 23, 25, 26, 28, 29, 31, 32, 34, 35, 37, 38, 40, 41, 43, 44, 46, 47, 49, 50, 52, 53, 55, 56, 58, 59, 61, 62, 64, 65, 67, 68, 70, 71, 73, 74, 76, 77, 79, 80, 82, 83, 85, 86, 88, 89, 91, 92, 94, 95, 97, 98, 100]\n"
     ]
    }
   ],
   "source": [
    "# initialize empty list\n",
    "multiples=[]\n",
    "\n",
    "# for loop\n",
    "for i in range(1,101):\n",
    "    if i%3 == 0:\n",
    "        continue\n",
    "    else:\n",
    "        multiples.append(i)\n",
    "\n",
    "# print list\n",
    "\n",
    "print(multiples)"
   ]
  },
  {
   "cell_type": "markdown",
   "metadata": {},
   "source": [
    "# Exception Handling\n",
    "## Divide two numbers avoiding zero in the denominator\n",
    "In this task, you will practice using exceptions to deal with a situation that involves raising exceptions for division of two numbers.\n",
    "\n",
    "Two variables num1 and num2 are given and your mission is to avoid ZeroDivisionError\n",
    "\n",
    "Inside the try block execute the division statement of dividing the first number by the second number, store the message as a variable message = \"Quotient is\" + ' ' + str(quotient) where quotient=num1/num2. Print out message\n",
    "\n",
    "Raise exceptions for ZeroDivisionError with message = \"Cannot divide by zero\". Print out message"
   ]
  },
  {
   "cell_type": "code",
   "execution_count": 14,
   "metadata": {},
   "outputs": [
    {
     "name": "stdout",
     "output_type": "stream",
     "text": [
      "Cannot divide by zero\n"
     ]
    }
   ],
   "source": [
    "num1, num2 = 5, 0\n",
    "\n",
    "# Code starts here\n",
    "\n",
    "# try except block\n",
    "try:\n",
    "    quotient=num1/num2\n",
    "    message=\"Quotient is\"+ ' '+str(quotient)\n",
    "    print(message)\n",
    "except ZeroDivisionError:\n",
    "    message= \"Cannot divide by zero\"\n",
    "    print(message)"
   ]
  },
  {
   "cell_type": "markdown",
   "metadata": {},
   "source": [
    "## Divide two numbers avoiding zero in the denominator with try-except-else-finally\n",
    "In this task, you will practice using exceptions to deal with a situation which involves raising exceptions for the division of two numbers with try-except-finally\n",
    "\n",
    "Two variables num1 and num2 are given and your mission is to use try-except-else-finally to handle exceptions\n",
    "\n",
    "Inside the try block execute the division statement of dividing the first number by the second number, store the message as a variable message = \"Quotient is\" + ' ' + str(quotient) where quotient=num1/num2. Print out message\n",
    "\n",
    "Raise exceptions for ZeroDivisionError with message = \"Cannot divide by zero\". Print out message\n",
    "\n",
    "Within the else block initialize a new variable new_message which stores the string 'No exceptions occurred' and print it out\n",
    "\n",
    "In the end, use finally block where you initialize a variable final_message containing the string Execution completed! and print it out."
   ]
  },
  {
   "cell_type": "code",
   "execution_count": 15,
   "metadata": {},
   "outputs": [
    {
     "name": "stdout",
     "output_type": "stream",
     "text": [
      "Quotient is 0.5\n",
      "No exceptions occurred\n",
      "Execution completed!\n"
     ]
    }
   ],
   "source": [
    "# take input\n",
    "num1, num2 = 5, 10\n",
    "\n",
    "# Code starts here\n",
    "\n",
    "# try except block\n",
    "try:\n",
    "    quotient=num1/num2\n",
    "    message=\"Quotient is\"+ ' '+str(quotient)\n",
    "    print(message)\n",
    "except ZeroDivisionError:\n",
    "    message= \"Cannot divide by zero\"\n",
    "    print(message)\n",
    "else:\n",
    "    new_message= 'No exceptions occurred'\n",
    "    print(new_message)\n",
    "finally:\n",
    "    final_message= \"Execution completed!\"\n",
    "    print(final_message)\n",
    "\n",
    "# Code ends here"
   ]
  },
  {
   "cell_type": "markdown",
   "metadata": {},
   "source": [
    "# Lambda Functions\n",
    "\n",
    "## Compute square of a number using lambda functions\n",
    "In this task, you will be going to define a function that takes in a value and returns its square and use it in conjunction with a list comprehension to calculate the squares of the first 10 natural numbers\n",
    "\n",
    "Make a lambda function square that takes in a number and returns its square and store it in a variable\n",
    "\n",
    "Store the first 10 natural numbers in a list nums\n",
    "\n",
    "Initialize an empty list square_nums where you will be storing the square of the first 10 natural numbers\n",
    "\n",
    "Using for loop, apply the lambda function on each element of the list nums, then append it to square_nums\n",
    "\n",
    "Print square_nums\n",
    "\n"
   ]
  },
  {
   "cell_type": "code",
   "execution_count": 16,
   "metadata": {},
   "outputs": [
    {
     "name": "stdout",
     "output_type": "stream",
     "text": [
      "[1, 4, 9, 16, 25, 36, 49, 64, 81, 100]\n"
     ]
    }
   ],
   "source": [
    "# Code starts here\n",
    "\n",
    "# lambda function to calculate square\n",
    "square = lambda i:i*i \n",
    "# natural numbers list\n",
    "\n",
    "# empty list\n",
    "square_nums=[]\n",
    "\n",
    "# loop through every element in list\n",
    "for i in range(1,11):\n",
    "    s=square(i)      \n",
    "    square_nums.append(s)\n",
    "    i=i+1\n",
    "# display new list\n",
    "print(square_nums)"
   ]
  },
  {
   "cell_type": "markdown",
   "metadata": {},
   "source": [
    "# Higher Order Functions\n",
    "## Filter out even elements\n",
    "In this task you will filter those elements which are even in a list of numbers from 1 to 20(including) using the filter() higher-order function.\n",
    "\n",
    "Create a list of first 20 natural numbers natural_nums\n",
    "\n",
    "Define a lambda function and save it as is_even which evaluates if the number is divisible by 2. Condition inside the lambda function should be (x%2==0)\n",
    "\n",
    "Use filter(), is_even and the list of numbers natural_nums to filter even elements in a list containing elements from 1 to 20 and save it as filtered\n",
    "\n"
   ]
  },
  {
   "cell_type": "code",
   "execution_count": 18,
   "metadata": {},
   "outputs": [
    {
     "name": "stdout",
     "output_type": "stream",
     "text": [
      "[2, 4, 6, 8, 10, 12, 14, 16, 18, 20]\n"
     ]
    }
   ],
   "source": [
    "# Code starts here\n",
    "\n",
    "# natural numbers from 1 to 20\n",
    "natural_nums = [1,2,3,4,5,6,7,8,9,10,11,12,13,14,15,16,17,18,19,20]\n",
    "\n",
    "# lambda function for even numbers\n",
    "for x in range (1,len(natural_nums)):\n",
    "    is_even= lambda x:x%2==0\n",
    "\n",
    "# filter() to filter out even elements\n",
    "filtered=list(filter(is_even,natural_nums))\n",
    "print(filtered)\n",
    "# Code ends here"
   ]
  },
  {
   "cell_type": "markdown",
   "metadata": {},
   "source": [
    "# Comprehensions\n",
    "## Present in one but absent in another\n",
    "In this task, you will make a list comprehension to return a list of numbers that are not present in another list of numbers.\n",
    "\n",
    "Define a list of numbers alist from 1 to 50 using a list comprehension.\n",
    "\n",
    "Define another list blist and store its values as [2,3,5,7,11,13,17,19,23,29,31,37,41,43,47].\n",
    "\n",
    "Make a list final using list comprehension which would contain elements that are in alist but not in blist.\n",
    "\n",
    "Print final\n",
    "\n"
   ]
  },
  {
   "cell_type": "code",
   "execution_count": 19,
   "metadata": {},
   "outputs": [
    {
     "name": "stdout",
     "output_type": "stream",
     "text": [
      "[1, 2, 3, 4, 5, 6, 7, 8, 9, 10, 11, 12, 13, 14, 15, 16, 17, 18, 19, 20, 21, 22, 23, 24, 25, 26, 27, 28, 29, 30, 31, 32, 33, 34, 35, 36, 37, 38, 39, 40, 41, 42, 43, 44, 45, 46, 47, 48, 49, 50]\n",
      "[1, 4, 6, 8, 9, 10, 12, 14, 15, 16, 18, 20, 21, 22, 24, 25, 26, 27, 28, 30, 32, 33, 34, 35, 36, 38, 39, 40, 42, 44, 45, 46, 48, 49, 50]\n"
     ]
    }
   ],
   "source": [
    "# Code starts here\n",
    "\n",
    "# initialize both lists\n",
    "alist = []\n",
    "for i in range(1,51):\n",
    "    alist.append(i)\n",
    "print(alist)\n",
    "blist=[2,3,5,7,11,13,17,19,23,29,31,37,41,43,47]\n",
    "\n",
    "# final list\n",
    "final=[]\n",
    "\n",
    "# display final list\n",
    "final= [i for i in alist if i not  in blist]\n",
    "print(final)\n",
    "\n",
    "# Code ends here"
   ]
  }
 ],
 "metadata": {
  "kernelspec": {
   "display_name": "Python 3",
   "language": "python",
   "name": "python3"
  },
  "language_info": {
   "codemirror_mode": {
    "name": "ipython",
    "version": 3
   },
   "file_extension": ".py",
   "mimetype": "text/x-python",
   "name": "python",
   "nbconvert_exporter": "python",
   "pygments_lexer": "ipython3",
   "version": "3.8.5"
  }
 },
 "nbformat": 4,
 "nbformat_minor": 4
}
