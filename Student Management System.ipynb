{
 "cells": [
  {
   "cell_type": "markdown",
   "metadata": {},
   "source": [
    "# Student Management System\n",
    "\n",
    "## Problem Statement\n",
    "You have been hired by the University of Data Science to manage their students' records. Your job is to create the student management system for the university. Let's try to build the system using basic Python operations.\n",
    "\n",
    "Outcomes\n",
    "After completing this project, you will get to know how to solve basic Python problems. In this project, you will be applying the following concepts:\n",
    "\n",
    "Mathematical operations\n",
    "List operations\n",
    "Dictionary operations\n",
    "String indexing and formatting"
   ]
  },
  {
   "cell_type": "markdown",
   "metadata": {},
   "source": [
    "## Task1\n",
    "Instructions:\n",
    "\n",
    "Let's create a new register by combining data from two classes while making some modifications to the register.\n",
    "\n",
    "Create a 'class_1' list and pass the elements 'Geoffrey Hinton','Andrew Ng','Sebastian Raschka','Yoshua Bengio'.\n",
    "\n",
    "Create a 'class_2' list and pass the elements 'Hilary Mason','Carla Gentry','Corinna Cortes'.\n",
    "\n",
    "Concatenate the 'class_1' and 'class_2' list. Store the values in a'new_class' variable.\n",
    "\n",
    "Print the 'new_class' variable to see the new list.\n",
    "\n",
    "You can now see the students list.\n",
    "\n",
    "Oops! Looks like we might have missed a student whose name is Peter Warden. Let's add him in the new register.\n",
    "\n",
    "Add new element 'Peter Warden' in the 'new_class' list.\n",
    "\n",
    "Print 'new_class' to see the updated list.\n",
    "\n",
    "It seems like there could also be a wrong entry in the list whose name is Carla Gentry. Let's remove her from the register.\n",
    "\n",
    "Remove the 'Carla Gentry'element from the 'new_class' list.\n",
    "\n",
    "Print 'new_class' to see the updated list."
   ]
  },
  {
   "cell_type": "code",
   "execution_count": 1,
   "metadata": {},
   "outputs": [
    {
     "name": "stdout",
     "output_type": "stream",
     "text": [
      "['Geoffrey Hinton', 'Andrew Ng', 'Sebastian Raschka', 'Yoshua Bengio', 'Hilary Mason', 'Carla Gentry', 'Corinna Cortes']\n",
      "['Geoffrey Hinton', 'Andrew Ng', 'Sebastian Raschka', 'Yoshua Bengio', 'Hilary Mason', 'Carla Gentry', 'Corinna Cortes', 'Peter Warden']\n",
      "['Geoffrey Hinton', 'Andrew Ng', 'Sebastian Raschka', 'Yoshua Bengio', 'Hilary Mason', 'Corinna Cortes', 'Peter Warden']\n"
     ]
    }
   ],
   "source": [
    "# Create the lists \n",
    "class_1=['Geoffrey Hinton','Andrew Ng','Sebastian Raschka','Yoshua Bengio']\n",
    "class_2=['Hilary Mason','Carla Gentry','Corinna Cortes']\n",
    "# Concatenate both the strings\n",
    "new_class=class_1+class_2\n",
    "print(new_class)\n",
    "# Append the list\n",
    "new_class.append('Peter Warden')\n",
    "# Print updated list\n",
    "print(new_class)\n",
    "# Remove the element from the list\n",
    "new_class.remove('Carla Gentry')\n",
    "# Print the list\n",
    "print(new_class)"
   ]
  },
  {
   "cell_type": "markdown",
   "metadata": {},
   "source": [
    "## Task 2: \n",
    "Let's create a dictionary for Geoffrey Hinton in each subject to generate his progress report.\n",
    "\n",
    "Create a dictionary named 'courses' using the keys and values given below :\n",
    "course\tmarks\n",
    "Math\t65\n",
    "English\t70\n",
    "History\t80\n",
    "French\t70\n",
    "Science\t60\n",
    "See the marks obtained in each subject.\n",
    "\n",
    "Add all the marks scored out of 100 and store it in a variable named 'total'.\n",
    "\n",
    "Print 'total'.\n",
    "\n",
    "Calculate the 'percentage' scored by 'Geoffrey Hinton' where addition of all the subjects is 500.\n",
    "\n",
    "Print the 'percentage'.\n",
    "\n",
    "\n",
    "The created dictionary courses should have {'Math':65,'English':70,'History':80,'French':70,'Science':60} as the keys and values.\n",
    "The calculated value of total should be 345 and that of percentage should be 69.0."
   ]
  },
  {
   "cell_type": "code",
   "execution_count": 2,
   "metadata": {},
   "outputs": [
    {
     "name": "stdout",
     "output_type": "stream",
     "text": [
      "345\n",
      "69.0 %\n"
     ]
    }
   ],
   "source": [
    "# Create the Dictionary\n",
    "courses={\"Math\":65,\"English\":70,\"History\":80,\"French\":70,\"Science\":60}\n",
    "# Slice the dict and stores  the all subjects marks in variable\n",
    "\n",
    "\n",
    "# Store the all the subject in one variable `Total`\n",
    "total=sum(courses.values())\n",
    "# Print the total\n",
    "print(total)\n",
    "# Insert percentage formula\n",
    "percentage=(total/500)*100\n",
    "# Print the percentage\n",
    "print(percentage,'%')"
   ]
  },
  {
   "cell_type": "markdown",
   "metadata": {},
   "source": [
    "## Task 3: \n",
    "For the student who got the highest marks in this subject, the school has decided to award a scholarship. Let's check who performed best in mathematics from all the students who appeared for the test.\n",
    "\n",
    "Create a dictionary named 'mathematics' using the keys and values given below.\n",
    "student\tmarks\n",
    "Geoffrey Hinton\t78\n",
    "Andrew Ng\t95\n",
    "Sebastian Raschka\t65\n",
    "Yoshua Benjio\t50\n",
    "Hilary Mason\t70\n",
    "Corinna Cortes\t66\n",
    "Peter Warden\t75\n",
    "Find out the student with the highest marks in Mathematics and store it in a variable 'topper'.\n",
    "The value stored in topper should be 'Andrew Ng'."
   ]
  },
  {
   "cell_type": "code",
   "execution_count": 9,
   "metadata": {},
   "outputs": [
    {
     "name": "stdout",
     "output_type": "stream",
     "text": [
      "Andrew Ng\n"
     ]
    }
   ],
   "source": [
    "# Create the Dictionary\n",
    "mathematics={\"Geoffrey Hinton\":78,\"Andrew Ng\":95,\"Sebastian Raschka\":65,\"Yoshua Benjio\":50,\"Hilary Mason\":70,\"Corinna Cortes\":66,\"Peter Warden\":75}  \n",
    "topper=max(mathematics,key=mathematics.get)\n",
    "print(topper)"
   ]
  },
  {
   "cell_type": "markdown",
   "metadata": {},
   "source": [
    "## Task 4: \n",
    "From the previous task, we know who is the 'Maths' topper in the class. You now have to print the name of the student on the certificate, but you will have to print his last name and then his first name.\n",
    "\n",
    "String name 'topper' with the Math topper's name is given.\n",
    "\n",
    "Split the 'topper' using the \"split()\" function and store the results in 'first_name' and 'last_name'.\n",
    "\n",
    "Display the full name concatenating + the strings 'last_name' and 'first_name' strings. Don't forget to add a whitespace character between them to avoid displaying them together and store it in a full_name variable .\n",
    "\n",
    "Convert all the elements in the 'full_name'string to uppercase, and store it to the 'certificate_name' variable.\n",
    "\n",
    "Print 'certificate_name'."
   ]
  },
  {
   "cell_type": "code",
   "execution_count": 5,
   "metadata": {},
   "outputs": [
    {
     "name": "stdout",
     "output_type": "stream",
     "text": [
      "Andrew\n",
      "Ng\n",
      "Ng Andrew\n",
      "NG ANDREW\n"
     ]
    }
   ],
   "source": [
    "# Given string\n",
    "first_name=topper.split()[0]\n",
    "print(first_name)\n",
    "last_name=topper.split()[1]\n",
    "print(last_name)\n",
    "# Concatenate the string\n",
    "full_name=last_name+\" \"+first_name\n",
    "# print the full_name\n",
    "print(full_name)\n",
    "# print the name in upper case\n",
    "certificate_name=full_name.upper()\n",
    "print(certificate_name)"
   ]
  },
  {
   "cell_type": "code",
   "execution_count": null,
   "metadata": {},
   "outputs": [],
   "source": []
  }
 ],
 "metadata": {
  "kernelspec": {
   "display_name": "Python 3",
   "language": "python",
   "name": "python3"
  },
  "language_info": {
   "codemirror_mode": {
    "name": "ipython",
    "version": 3
   },
   "file_extension": ".py",
   "mimetype": "text/x-python",
   "name": "python",
   "nbconvert_exporter": "python",
   "pygments_lexer": "ipython3",
   "version": "3.8.5"
  }
 },
 "nbformat": 4,
 "nbformat_minor": 4
}
